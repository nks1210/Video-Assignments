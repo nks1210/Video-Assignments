{
 "cells": [
  {
   "cell_type": "code",
   "execution_count": 1,
   "metadata": {},
   "outputs": [
    {
     "ename": "AttributeError",
     "evalue": "module 'cv2.cv2' has no attribute 'bgsegm'",
     "output_type": "error",
     "traceback": [
      "\u001b[1;31m---------------------------------------------------------------------------\u001b[0m",
      "\u001b[1;31mAttributeError\u001b[0m                            Traceback (most recent call last)",
      "\u001b[1;32m<ipython-input-1-6446d9acf762>\u001b[0m in \u001b[0;36m<module>\u001b[1;34m\u001b[0m\n\u001b[0;32m      1\u001b[0m \u001b[1;32mimport\u001b[0m \u001b[0mnumpy\u001b[0m \u001b[1;32mas\u001b[0m \u001b[0mnp\u001b[0m\u001b[1;33m\u001b[0m\u001b[1;33m\u001b[0m\u001b[0m\n\u001b[0;32m      2\u001b[0m \u001b[1;32mimport\u001b[0m \u001b[0mcv2\u001b[0m\u001b[1;33m\u001b[0m\u001b[1;33m\u001b[0m\u001b[0m\n\u001b[1;32m----> 3\u001b[1;33m \u001b[0mfgbg1\u001b[0m \u001b[1;33m=\u001b[0m \u001b[0mcv2\u001b[0m\u001b[1;33m.\u001b[0m\u001b[0mbgsegm\u001b[0m\u001b[1;33m.\u001b[0m\u001b[0mcreateBackgroundSubtractorMOG\u001b[0m\u001b[1;33m(\u001b[0m\u001b[1;33m)\u001b[0m\u001b[1;33m;\u001b[0m\u001b[1;33m\u001b[0m\u001b[1;33m\u001b[0m\u001b[0m\n\u001b[0m\u001b[0;32m      4\u001b[0m \u001b[0mfgbg2\u001b[0m \u001b[1;33m=\u001b[0m \u001b[0mcv2\u001b[0m\u001b[1;33m.\u001b[0m\u001b[0mcreateBackgroundSubtractorMOG2\u001b[0m\u001b[1;33m(\u001b[0m\u001b[1;33m)\u001b[0m\u001b[1;33m;\u001b[0m\u001b[1;33m\u001b[0m\u001b[1;33m\u001b[0m\u001b[0m\n\u001b[0;32m      5\u001b[0m \u001b[0mfgbg3\u001b[0m \u001b[1;33m=\u001b[0m \u001b[0mcv2\u001b[0m\u001b[1;33m.\u001b[0m\u001b[0mbgsegm\u001b[0m\u001b[1;33m.\u001b[0m\u001b[0mcreateBackgroundSubtractorGMG\u001b[0m\u001b[1;33m(\u001b[0m\u001b[1;33m)\u001b[0m\u001b[1;33m;\u001b[0m\u001b[1;33m\u001b[0m\u001b[1;33m\u001b[0m\u001b[0m\n",
      "\u001b[1;31mAttributeError\u001b[0m: module 'cv2.cv2' has no attribute 'bgsegm'"
     ]
    }
   ],
   "source": [
    "import numpy as np \n",
    "import cv2 \n",
    "# For capturing sudden co-ordinate change in RGB values from current and successor frames.\n",
    "# Mean and Variance of RGB pixel values between image frames are used to detect object change\n",
    "# Video is captured using camera devise making it Unimodal \n",
    "fgbg1 = cv2.bgsegm.createBackgroundSubtractorMOG();  /For background modelling/  \n",
    "fgbg2 = cv2.createBackgroundSubtractorMOG2(); \n",
    "fgbg3 = cv2.bgsegm.createBackgroundSubtractorGMG(); \n",
    "\n",
    "# capture frames from a camera \n",
    "cap = cv2.VideoCapture(\"C:\\Nishant\\IIT G\\Video Assignments\\2 Intrusion Detection\\Intrusion.mkv\"); \n",
    "while(1):  \n",
    "    ret, img = cap.read(); \n",
    "\n",
    "    # apply mask for background subtraction \n",
    "    fgmask1 = fgbg1.apply(img); \n",
    "    fgmask2 = fgbg2.apply(img); \n",
    "    fgmask3 = fgbg3.apply(img); \n",
    "      \n",
    "    cv2.imshow('Original', img); \n",
    "    cv2.imshow('MOG', fgmask1); \n",
    "    cv2.imshow('MOG2', fgmask2); \n",
    "    cv2.imshow('GMG', fgmask3); \n",
    "    \n",
    "    key = cv2.waitKey(1)\n",
    "    if  key == ord('q'):\n",
    "        break\n",
    "cap.release(); \n",
    "cv2.destroyAllWindows();"
   ]
  },
  {
   "cell_type": "code",
   "execution_count": null,
   "metadata": {},
   "outputs": [],
   "source": [
    "kernel = cv2.getStructuringElement(cv2.MORPH_ELLIPSE, (3, 3)); \n",
    "  \n",
    "fgbg = cv2.bgsegm.createBackgroundSubtractorGMG(); \n",
    "  \n",
    "cap = cv2.VideoCapture('C:\\Users\\parul\\Desktop\\Video Surveillance\\'Seagulls_15.mov'); \n",
    "while(1): \n",
    "    ret, img = cap.read(); \n",
    "      \n",
    "    fgmask = fgbg.apply(img); \n",
    "      \n",
    "    cv2.imshow('GMG noise', fgmask); \n",
    "      \n",
    "    fgmask = cv2.morphologyEx(fgmask, cv2.MORPH_OPEN, kernel); \n",
    "      \n",
    "    cv2.imshow('GMG', fgmask); \n",
    "      \n",
    "    key = cv2.waitKey(1)\n",
    "    if  key == ord('q'):\n",
    "        break\n",
    "        \n",
    "cap.release(); \n",
    "cv2.destroyAllWindows();"
   ]
  }
 ],
 "metadata": {
  "kernelspec": {
   "display_name": "Python 3",
   "language": "python",
   "name": "python3"
  },
  "language_info": {
   "codemirror_mode": {
    "name": "ipython",
    "version": 3
   },
   "file_extension": ".py",
   "mimetype": "text/x-python",
   "name": "python",
   "nbconvert_exporter": "python",
   "pygments_lexer": "ipython3",
   "version": "3.8.3"
  }
 },
 "nbformat": 4,
 "nbformat_minor": 4
}
